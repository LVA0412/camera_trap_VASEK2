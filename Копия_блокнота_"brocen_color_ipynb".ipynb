{
  "nbformat": 4,
  "nbformat_minor": 0,
  "metadata": {
    "colab": {
      "provenance": [],
      "authorship_tag": "ABX9TyMJn32UPpbwPAhUiNW1e9AX",
      "include_colab_link": true
    },
    "kernelspec": {
      "name": "python3",
      "display_name": "Python 3"
    },
    "language_info": {
      "name": "python"
    }
  },
  "cells": [
    {
      "cell_type": "markdown",
      "metadata": {
        "id": "view-in-github",
        "colab_type": "text"
      },
      "source": [
        "<a href=\"https://colab.research.google.com/github/LVA0412/camera_trap_VASEK2/blob/main/%D0%9A%D0%BE%D0%BF%D0%B8%D1%8F_%D0%B1%D0%BB%D0%BE%D0%BA%D0%BD%D0%BE%D1%82%D0%B0_%22brocen_color_ipynb%22.ipynb\" target=\"_parent\"><img src=\"https://colab.research.google.com/assets/colab-badge.svg\" alt=\"Open In Colab\"/></a>"
      ]
    },
    {
      "cell_type": "code",
      "execution_count": null,
      "metadata": {
        "colab": {
          "base_uri": "https://localhost:8080/"
        },
        "id": "a3E_M-KfkenW",
        "outputId": "1ad99762-ac60-47f8-90ca-5f2e2511fa7d"
      },
      "outputs": [
        {
          "output_type": "stream",
          "name": "stdout",
          "text": [
            "Mounted at /content/drive\n"
          ]
        }
      ],
      "source": [
        "from google.colab import drive\n",
        "drive.mount('/content/drive')"
      ]
    },
    {
      "cell_type": "code",
      "source": [
        "!unzip /content/drive/MyDrive/train_dataset_altai.zip"
      ],
      "metadata": {
        "id": "6p6LrIkOko9V"
      },
      "execution_count": null,
      "outputs": []
    },
    {
      "cell_type": "code",
      "source": [
        "import pandas as pd\n",
        "import matplotlib.pyplot as plt # библиотека MatPlotLib для визуализации\n",
        "import PIL\n",
        "import os # чтение файлов и структуры директорий\n",
        "import numpy as np\n",
        "from PIL import Image\n",
        "%matplotlib inline"
      ],
      "metadata": {
        "id": "P_3mBqfonDc-"
      },
      "execution_count": null,
      "outputs": []
    },
    {
      "cell_type": "code",
      "source": [
        "import cv2 # импорт Open CV\n",
        "from google.colab.patches import cv2_imshow # cv2_imshow служит для отображения картинок в Google Colab"
      ],
      "metadata": {
        "id": "NzF3KEYkpcqK"
      },
      "execution_count": null,
      "outputs": []
    },
    {
      "cell_type": "code",
      "source": [
        "def colors(grey_image): #функция искать одноцветные области брака\n",
        "  b=0\n",
        "  n=np.array(gray_image)\n",
        "  unique, counts = np.unique(n, return_counts=True)\n",
        "  for i in range(len(n[:,0])):\n",
        "      if len(np.unique(np.array(n[i,:])))==1 :\n",
        "        uno=np.unique(np.array(n[i,:]), return_counts=False)\n",
        "        if uno!=0:\n",
        "           if uno!=255:\n",
        "             b+=1\n",
        "\n",
        "  print(b)\n",
        "  if b>10:\n",
        "    br=1\n",
        "\n",
        "  elif len(np.array(unique))<7:\n",
        "    br=1\n",
        "  elif (max(np.array(counts))/len(n))>0.30:\n",
        "    ind=np.where(max(np.array(counts)))[0][0]\n",
        "    if np.array(unique)[ind]!=0:\n",
        "           if  np.array(unique)[ind]!=255:\n",
        "             br=1\n",
        "           else: br=0\n",
        "    else: br=0\n",
        "   # print(max(np.array(counts))/len(n))\n",
        "  #  br=1\n",
        "  else :\n",
        "    br=0\n",
        "\n",
        "  return br"
      ],
      "metadata": {
        "id": "M1UA-MJU-r4T"
      },
      "execution_count": null,
      "outputs": []
    },
    {
      "cell_type": "markdown",
      "source": [],
      "metadata": {
        "id": "o3qW4rNBiPWr"
      }
    },
    {
      "cell_type": "markdown",
      "source": [],
      "metadata": {
        "id": "CKJ4sLubiPHx"
      }
    },
    {
      "cell_type": "code",
      "source": [
        "d=sorted(np.asarray ((unique, counts))"
      ],
      "metadata": {
        "id": "5YN4vzDsNIYr"
      },
      "execution_count": null,
      "outputs": []
    },
    {
      "cell_type": "markdown",
      "source": [],
      "metadata": {
        "id": "VCnZ2UXkge8N"
      }
    },
    {
      "cell_type": "code",
      "source": [
        "def koeff(grey_image):#соотношения белого, черного, серединки\n",
        "    n=np.ravel(gray_image)\n",
        "    av=np.mean(n)\n",
        "    koef_bl=sum(n>240)/len(n)\n",
        "    koef_wt=sum(n<10)/len(n)\n",
        "    koef_av=(sum(n<(av+10))-sum(n<(av-10)))/len(n)\n",
        "    return (av,koef_bl,koef_wt,koef_av)"
      ],
      "metadata": {
        "id": "b4FjZEFr07Ro"
      },
      "execution_count": null,
      "outputs": []
    },
    {
      "cell_type": "code",
      "source": [
        "from numpy.ma.extras import average\n",
        "average(n-51.44)"
      ],
      "metadata": {
        "colab": {
          "base_uri": "https://localhost:8080/"
        },
        "id": "SjbzObQCywWR",
        "outputId": "e7e43db3-a204-41d1-bd81-c47b281c5600"
      },
      "execution_count": null,
      "outputs": [
        {
          "output_type": "execute_result",
          "data": {
            "text/plain": [
              "-0.0026058056289241394"
            ]
          },
          "metadata": {},
          "execution_count": 34
        }
      ]
    },
    {
      "cell_type": "code",
      "source": [
        "def save_file_at_dir(dir_path, img, fldr):\n",
        "    os.makedirs(dir_path, exist_ok=True)\n",
        "    os.chdir(dir_path)\n",
        "    cv2.imwrite(\"{}.jpg\".format(fldr), img)"
      ],
      "metadata": {
        "id": "Ye-LOMJ8v4l2"
      },
      "execution_count": null,
      "outputs": []
    },
    {
      "cell_type": "code",
      "source": [
        "def chanal_bad(img):#ошибки в каналах\n",
        "  r = img[:,:,0]\n",
        "  g= img[:,:,1]\n",
        "  b= img[:,:,2]\n",
        "  rr=np.ravel(r)\n",
        "  gr=np.ravel(g)\n",
        "  br=np.ravel(b)\n",
        "  print(np.mean(rr),np.mean(br),np.mean(gr))\n",
        "  if np.mean(rr)>2*np.mean(gr) or np.mean(rr)>2*sum(br):\n",
        "    br=1\n",
        "  elif np.mean(gr)>2*np.mean(rr) or np.mean(gr)>2*np.mean(br):\n",
        "    br=1\n",
        "  elif np.mean(br)>2*np.mean(gr) or np.mean(br)>2*np.mean(rr):\n",
        "    br=1\n",
        "  else:\n",
        "    br=0\n",
        "  return br"
      ],
      "metadata": {
        "id": "MZxxvY4RJLQu"
      },
      "execution_count": null,
      "outputs": []
    },
    {
      "cell_type": "code",
      "source": [
        "from logging import exception\n",
        "directory='/content/imgs'\n",
        "brocken_img=[]\n",
        "exception1=[]\n",
        "i=1\n",
        "br=0\n",
        "br_path=\"/content/b\"\n",
        "good_path=\"/content/g\"\n",
        "for fldr in os.listdir(directory):\n",
        "     file_path = os.path.join(directory, fldr)\n",
        "     try:\n",
        "            im = Image.open(file_path)\n",
        "            im=cv2.imread(file_path)\n",
        "            gray_image = cv2.cvtColor(im, cv2.COLOR_BGR2GRAY)\n",
        "            av,koef_bl,koef_wt,koef_av=koeff(gray_image)\n",
        "            if av <=10 or av>=240:\n",
        "              br=1\n",
        "            elif koef_bl>0.8 or koef_av>0.8 or koef_wt>0.8:\n",
        "                  br=1\n",
        "            else :\n",
        "              br=colors(gray_image)\n",
        "\n",
        "              if br==0:\n",
        "                br=chanal_bad(im)\n",
        "            if br:\n",
        "               brocken_img.append(fldr.split('.')[0])\n",
        "               save_file_at_dir(br_path,im,fldr)\n",
        "            else:\n",
        "               save_file_at_dir(good_path,im,fldr)\n",
        "     except PIL.UnidentifiedImageError:\n",
        "            extensions1.append(fldr.split('.')[0])\n"
      ],
      "metadata": {
        "colab": {
          "base_uri": "https://localhost:8080/"
        },
        "id": "K79FoeUrnlbt",
        "outputId": "e7b77005-a7c3-49c8-bd14-a20b1bf238e2"
      },
      "execution_count": null,
      "outputs": [
        {
          "output_type": "stream",
          "name": "stdout",
          "text": [
            "1448\n",
            "392\n",
            "0\n",
            "21.68168120967332 121.01239827039831 12.260468265762333\n"
          ]
        }
      ]
    },
    {
      "cell_type": "code",
      "source": [
        "!rm -r /content/b"
      ],
      "metadata": {
        "id": "4QHmN4UC68yW"
      },
      "execution_count": null,
      "outputs": []
    },
    {
      "cell_type": "code",
      "source": [
        "im_pr=cv2.imread('/content/b/clear_19.JPG.jpg')\n",
        "gray_image = cv2.cvtColor(im_pr, cv2.COLOR_BGR2GRAY)\n",
        "print(colors(gray_image),koeff(gray_image))\n",
        "chanal_bad(im_pr)"
      ],
      "metadata": {
        "colab": {
          "base_uri": "https://localhost:8080/"
        },
        "id": "GDiILsiPFfhc",
        "outputId": "67255ca7-13b0-4a44-acf1-743ff7ac5ce4"
      },
      "execution_count": null,
      "outputs": [
        {
          "output_type": "stream",
          "name": "stdout",
          "text": [
            "24\n",
            "1 (128.24418517883453, 0.04917076284103033, 0.003157467738657725, 0.17237054977645683)\n",
            "106.04481421150231 143.06561817304274 124.96948508865519\n"
          ]
        },
        {
          "output_type": "execute_result",
          "data": {
            "text/plain": [
              "0"
            ]
          },
          "metadata": {},
          "execution_count": 227
        }
      ]
    }
  ]
}
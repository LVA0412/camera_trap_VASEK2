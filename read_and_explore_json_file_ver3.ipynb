{
  "nbformat": 4,
  "nbformat_minor": 0,
  "metadata": {
    "colab": {
      "provenance": [],
      "include_colab_link": true
    },
    "kernelspec": {
      "name": "python3",
      "display_name": "Python 3"
    },
    "language_info": {
      "name": "python"
    }
  },
  "cells": [
    {
      "cell_type": "markdown",
      "metadata": {
        "id": "view-in-github",
        "colab_type": "text"
      },
      "source": [
        "<a href=\"https://colab.research.google.com/github/LVA0412/camera_trap_VASEK2/blob/main/read_and_explore_json_file_ver3.ipynb\" target=\"_parent\"><img src=\"https://colab.research.google.com/assets/colab-badge.svg\" alt=\"Open In Colab\"/></a>"
      ]
    },
    {
      "cell_type": "code",
      "source": [
        "import json\n",
        "import numpy as np\n",
        "import pandas as pd\n",
        "\n",
        "# Открытие файла для чтения\n",
        "\n",
        "#from google.colab import drive\n",
        "#drive.mount('/content/drive')\n",
        "\n",
        "path_in=\"/content/train_dataset_altai_results.json\"\n",
        "path_out='/content/result.csv'"
      ],
      "metadata": {
        "id": "_c8S_DQkv2Rg"
      },
      "execution_count": null,
      "outputs": []
    },
    {
      "cell_type": "code",
      "source": [
        "def to_csv(path_in,path_out):\n",
        "    with open(path_in, 'r') as file:\n",
        "    # Parse JSON data\n",
        "     data = json.load(file)\n",
        "     # использование данных\n",
        "     animals = data['images']\n",
        "     list_1=[]\n",
        "     list_2=[]\n",
        "     list_3=[]\n",
        "     list_4=[]\n",
        "# перебор файлов\n",
        "     for animal in animals:\n",
        "        list_1.append(animal['file'])\n",
        "        i=0\n",
        "# перебор файлов для извлечения нужной категории и уверенности\n",
        "     for animal in animals:\n",
        "          a=0\n",
        "          for i in range(len(animal['detections'])):\n",
        "              kategoria=(animal['detections'][i]['category'])\n",
        "              uverennost= (animal['detections'][i]['conf'])\n",
        "              if int(kategoria)==1 and float(uverennost)>0.7:\n",
        "                   a+=1\n",
        "              i+=1\n",
        "          if a:\n",
        "                list_2.append(0), list_3.append(0), list_4.append(1)\n",
        "          else: list_2.append(0), list_3.append(0), list_4.append(0)\n",
        "\n",
        "     with_animals=pd.DataFrame({'filename':list_1, 'broken':list_2, 'empty':list_3, 'animal':list_4})\n",
        "     with_animals.to_csv(path_out, sep=';', index=False, encoding='utf-8-sig')"
      ],
      "metadata": {
        "id": "MSAWPcG55IGn"
      },
      "execution_count": null,
      "outputs": []
    },
    {
      "cell_type": "code",
      "source": [
        "to_csv(path_in,path_out)\n",
        "result.csv"
      ],
      "metadata": {
        "colab": {
          "base_uri": "https://localhost:8080/",
          "height": 192
        },
        "id": "8yd3qgUp-_7R",
        "outputId": "69786133-5acd-47d8-d0f7-5ea34856c359"
      },
      "execution_count": null,
      "outputs": [
        {
          "output_type": "error",
          "ename": "NameError",
          "evalue": "ignored",
          "traceback": [
            "\u001b[0;31m---------------------------------------------------------------------------\u001b[0m",
            "\u001b[0;31mNameError\u001b[0m                                 Traceback (most recent call last)",
            "\u001b[0;32m<ipython-input-20-87a2e0a51c7e>\u001b[0m in \u001b[0;36m<cell line: 2>\u001b[0;34m()\u001b[0m\n\u001b[1;32m      1\u001b[0m \u001b[0mto_csv\u001b[0m\u001b[0;34m(\u001b[0m\u001b[0mpath_in\u001b[0m\u001b[0;34m,\u001b[0m\u001b[0mpath_out\u001b[0m\u001b[0;34m)\u001b[0m\u001b[0;34m\u001b[0m\u001b[0;34m\u001b[0m\u001b[0m\n\u001b[0;32m----> 2\u001b[0;31m \u001b[0mresult\u001b[0m\u001b[0;34m.\u001b[0m\u001b[0mcsv\u001b[0m\u001b[0;34m\u001b[0m\u001b[0;34m\u001b[0m\u001b[0m\n\u001b[0m",
            "\u001b[0;31mNameError\u001b[0m: name 'result' is not defined"
          ]
        }
      ]
    },
    {
      "cell_type": "code",
      "source": [
        "#Экспорт csv\n",
        "with_animals.to_csv('/content/drive/My Drive/train_dataset_altai/result.csv', sep=';', index=False, encoding='utf-8-sig')"
      ],
      "metadata": {
        "id": "2VBr-5Vma3P_"
      },
      "execution_count": null,
      "outputs": []
    }
  ]
}